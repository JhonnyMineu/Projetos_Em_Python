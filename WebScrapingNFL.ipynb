{
  "nbformat": 4,
  "nbformat_minor": 0,
  "metadata": {
    "colab": {
      "provenance": []
    },
    "kernelspec": {
      "name": "python3",
      "display_name": "Python 3"
    },
    "language_info": {
      "name": "python"
    }
  },
  "cells": [
    {
      "cell_type": "code",
      "execution_count": null,
      "metadata": {
        "id": "BrE_JCcpGE6v"
      },
      "outputs": [],
      "source": [
        "import requests\n",
        "import pandas as pd\n",
        "from bs4 import BeautifulSoup"
      ]
    },
    {
      "cell_type": "code",
      "source": [
        "# Obtendo valores de url e trazendo o código HTML da página\n",
        "url = 'https://www.nfl.com/stats/player-stats/'\n",
        "soup = requests.get(url)\n",
        "site = BeautifulSoup(soup.text, 'html.parser')"
      ],
      "metadata": {
        "id": "ip6Ngd0OM-B-"
      },
      "execution_count": 169,
      "outputs": []
    },
    {
      "cell_type": "code",
      "source": [
        "# Criando loop para colocar as informações do cabeçalho da tabela dentro de uma lista\n",
        "lista = []\n",
        "nomes_co = []\n",
        "\n",
        "contagem_colunas = site.find_all('th',{'class':'header'})\n",
        "colunas = site.find('tr')\n",
        "\n",
        "for i in contagem_colunas:\n",
        "  lista.append(i.get_text().strip())\n",
        "  nomes_co.append(i.get_text().strip())\n",
        "\n",
        "print(nomes_co)"
      ],
      "metadata": {
        "colab": {
          "base_uri": "https://localhost:8080/"
        },
        "id": "UvXkkBMKOI9s",
        "outputId": "bf1068b4-1437-431a-d020-9342f916b503"
      },
      "execution_count": 170,
      "outputs": [
        {
          "output_type": "stream",
          "name": "stdout",
          "text": [
            "['Player', 'Pass Yds', 'Yds/Att', 'Att', 'Cmp', 'Cmp %', 'TD', 'INT', 'Rate', '1st', '1st%', '20+', '40+', 'Lng', 'Sck', 'SckY']\n"
          ]
        }
      ]
    },
    {
      "cell_type": "code",
      "source": [
        "# Obtendo o nome da página para criar um DataFrame de forma automática\n",
        "pagina = site.find('li',{'class':'d3-o-tabs__list-item d3-is-active'})\n",
        "DF_pagina = pagina.get_text()\n",
        "\n",
        "print(DF_pagina)"
      ],
      "metadata": {
        "colab": {
          "base_uri": "https://localhost:8080/"
        },
        "id": "jNG7uQvoU12A",
        "outputId": "511db51a-d1aa-4f0a-d5c3-65d5ed897be9"
      },
      "execution_count": 171,
      "outputs": [
        {
          "output_type": "stream",
          "name": "stdout",
          "text": [
            "\n",
            "Passing\n",
            "\n"
          ]
        }
      ]
    },
    {
      "cell_type": "code",
      "source": [
        "df = pd.DataFrame(columns=nomes_co)\n",
        "\n",
        "print(df)"
      ],
      "metadata": {
        "colab": {
          "base_uri": "https://localhost:8080/"
        },
        "id": "tU9vX8EWXFeQ",
        "outputId": "86b4851c-7d1b-4b70-fbd3-f6f455e55956"
      },
      "execution_count": 172,
      "outputs": [
        {
          "output_type": "stream",
          "name": "stdout",
          "text": [
            "Empty DataFrame\n",
            "Columns: [Player, Pass Yds, Yds/Att, Att, Cmp, Cmp %, TD, INT, Rate, 1st, 1st%, 20+, 40+, Lng, Sck, SckY]\n",
            "Index: []\n"
          ]
        }
      ]
    },
    {
      "cell_type": "code",
      "source": [
        "# Listando as colunas do DataFrame\n",
        "data = list(df.columns)\n"
      ],
      "metadata": {
        "id": "3beHtn93DnJg"
      },
      "execution_count": 173,
      "outputs": []
    },
    {
      "cell_type": "code",
      "source": [
        "table = site.find('table')\n",
        "\n",
        "#Transformando cada linha de dado da tabela em uma linha do DataFrame de forma dinâmica\n",
        "for row in table.tbody.find_all('tr'):\n",
        "  columns = row.find_all('td')\n",
        "\n",
        "  # Obtendo colunas de cada linha\n",
        "  if (columns !=[]):\n",
        "    valores_coletados = {}\n",
        "\n",
        "    # Fazendo loop dinâmico para armazenar em 'valores_coletados' cada nome da coluna e valor referente extraidos da tabela do site\n",
        "    for i in range(0,(len(nomes_co))):\n",
        "      campo = columns[i].text.strip()\n",
        "      valores_coletados[data[i]] = campo\n",
        "\n",
        "      # Condicional para só inputar no DataFrame quando a quantidade de colunas existentes estiver igual a de colunas coletadas\n",
        "      if i == (len(nomes_co)-1):\n",
        "        df= pd.concat([df,pd.DataFrame.from_records([valores_coletados])], ignore_index=True) # Input no DataFrame\n",
        "\n",
        "print(df.head(50))\n",
        "\n"
      ],
      "metadata": {
        "colab": {
          "base_uri": "https://localhost:8080/"
        },
        "id": "ZyDqMoF7Y0UV",
        "outputId": "27fae794-91b5-4b3b-8315-7bbcf2cd6168"
      },
      "execution_count": 174,
      "outputs": [
        {
          "output_type": "stream",
          "name": "stdout",
          "text": [
            "              Player Pass Yds Yds/Att  Att  Cmp Cmp %  TD INT   Rate  1st  \\\n",
            "0         Sam Howell     3038     6.9  442  295  66.7  18  12   88.6  139   \n",
            "1        C.J. Stroud     2962     8.3  355  223  62.8  17   5   99.3  143   \n",
            "2     Tua Tagovailoa     2934     8.5  347  242  69.7  21   8    106  142   \n",
            "3         Josh Allen     2875     7.5  382  266  69.6  22  12   97.6  134   \n",
            "4         Jared Goff     2743     7.6  361  246  68.1  16   8   96.1  134   \n",
            "5        Brock Purdy     2662     9.7  275  193  70.2  18   5  115.1  123   \n",
            "6    Patrick Mahomes     2619       7  377  253  67.1  19   9   93.8  128   \n",
            "7     Justin Herbert     2609     7.3  358  237  66.2  19   5   99.5  126   \n",
            "8       Dak Prescott     2604     7.7  338  237  70.1  19   6    104  127   \n",
            "9        Jalen Hurts     2497     7.6  327  224  68.5  15   9   94.8  111   \n",
            "10     Lamar Jackson     2441     8.1  302  210  69.5  12   5  100.1  104   \n",
            "11        Geno Smith     2404     7.2  334  218  65.3  12   7   89.7  112   \n",
            "12    Baker Mayfield     2389     6.8  350  226  64.6  15   6   91.5  113   \n",
            "13   Trevor Lawrence     2382     7.2  332  226  68.1  11   6   92.2  108   \n",
            "14      Kirk Cousins     2331     7.5  311  216  69.4  18   5  103.8  112   \n",
            "15       Jordan Love     2331     6.9  340  203  59.7  16  10   83.8  114   \n",
            "16        Joe Burrow     2309     6.3  365  244  66.8  15   6     91  115   \n",
            "17  Matthew Stafford     2260     7.3  309  183  59.2   9   8   80.8  105   \n",
            "18        Derek Carr     2231     6.7  334  220  65.9  10   4   89.8  102   \n",
            "19      Joshua Dobbs     2216     6.1  362  230  63.5  12   6   84.7  113   \n",
            "20    Russell Wilson     2065       7  297  205    69  19   4  104.3   94   \n",
            "21         Mac Jones     2031     6.3  324  212  65.4  10  10   80.2   95   \n",
            "22       Zach Wilson     1944     6.1  321  190  59.2   6   7   73.8   87   \n",
            "23    Desmond Ridder     1740     7.1  246  161  65.4   6   6   84.1   86   \n",
            "24     Kenny Pickett     1722     6.1  281  170  60.5   6   4   79.2   71   \n",
            "\n",
            "    1st% 20+ 40+ Lng Sck SckY  \n",
            "0   31.4  34   3  51  51  343  \n",
            "1   40.3  49   6  75  22  192  \n",
            "2   40.9  38   7  69  15   84  \n",
            "3   35.1  30   6  81  14   76  \n",
            "4   37.1  42   5  46  17  105  \n",
            "5   44.7  43   7  76  20  126  \n",
            "6     34  29   4  54  13   98  \n",
            "7   35.2  37   4  60  22  172  \n",
            "8   37.6  40   4  60  22  155  \n",
            "9   33.9  35   7  63  27  149  \n",
            "10  34.4  36   6  80  27  153  \n",
            "11  33.5  29   4  64  21  162  \n",
            "12  32.3  34   7  70  20  111  \n",
            "13  32.5  30   3  56  25  154  \n",
            "14    36  34   4  62  17  110  \n",
            "15  33.5  32   4  77  22  170  \n",
            "16  31.5  21   4  64  24  180  \n",
            "17    34  38   3  49  20  150  \n",
            "18  30.5  24   7  58  21  136  \n",
            "19  31.2  27   2  69  23  154  \n",
            "20  31.6  24   5  60  32  155  \n",
            "21  29.3  17   2  58  21  127  \n",
            "22  27.1  22   3  68  38  270  \n",
            "23    35  19   3  46  25  171  \n",
            "24  25.3  20   3  72  21  163  \n"
          ]
        }
      ]
    },
    {
      "cell_type": "code",
      "source": [
        "# Exportando o DataFrame em formato CSV\n",
        "df.to_csv(r\"C:\\Users\\jhonny.mineu.MSP\\Desktop\\NFL_Tabelas.csv\")\n",
        "df.to_excel('NFL_Tabela.xlsx')"
      ],
      "metadata": {
        "id": "IiE_96c2VZnW"
      },
      "execution_count": 168,
      "outputs": []
    }
  ]
}